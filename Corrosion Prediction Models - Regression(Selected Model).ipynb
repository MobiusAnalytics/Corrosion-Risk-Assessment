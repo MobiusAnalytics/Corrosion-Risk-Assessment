{
 "cells": [
  {
   "cell_type": "code",
   "execution_count": 1,
   "id": "72b7a57d",
   "metadata": {},
   "outputs": [],
   "source": [
    "import pandas as pd\n",
    "import numpy as np\n",
    "from sklearn.preprocessing import StandardScaler\n",
    "import seaborn as sns\n",
    "import matplotlib.pyplot as plt\n",
    "import warnings\n",
    "warnings.filterwarnings(\"ignore\")\n",
    "from statsmodels.stats.outliers_influence import variance_inflation_factor\n",
    "from sklearn.feature_selection import chi2, f_regression\n",
    "from sklearn.feature_selection import SelectKBest\n",
    "from sklearn.ensemble import RandomForestRegressor\n",
    "from sklearn.linear_model import LinearRegression\n",
    "from sklearn.metrics import mean_absolute_error,mean_squared_error,mean_absolute_percentage_error\n",
    "from sklearn.model_selection import KFold, train_test_split,RandomizedSearchCV, GridSearchCV\n",
    "from sklearn.neural_network import MLPRegressor\n",
    "from sklearn.svm import SVR\n",
    "import statsmodels.api as sm"
   ]
  },
  {
   "cell_type": "code",
   "execution_count": 2,
   "id": "c9059852",
   "metadata": {},
   "outputs": [],
   "source": [
    "data = pd.read_csv(\"Corrosion_synthesized_data.csv\")\n",
    "test_data = pd.read_csv(\"Corrosion_synthesized_Test_data.csv\")"
   ]
  },
  {
   "cell_type": "code",
   "execution_count": 3,
   "id": "591006a3",
   "metadata": {},
   "outputs": [],
   "source": [
    "pipe1 = data[data['Pipe_type']==\"Pipe_1\"]\n",
    "pipe2 = data[data['Pipe_type']==\"Pipe_2\"]\n",
    "pipe3 = data[data['Pipe_type']==\"Pipe_3\"]"
   ]
  },
  {
   "cell_type": "code",
   "execution_count": 4,
   "id": "a211ebe2",
   "metadata": {},
   "outputs": [],
   "source": [
    "def feature_importance(dfx):\n",
    "    dfx.drop('Pipe_type',axis=1,inplace=True)\n",
    "    response_col = 'Defect_Depth'\n",
    "    Scaler = StandardScaler()\n",
    "    X = dfx.drop(response_col,axis=1)\n",
    "    X = pd.DataFrame(Scaler.fit_transform(X),columns=X.columns)  \n",
    "    y = dfx[response_col]\n",
    "    bestfeatures = SelectKBest(score_func=f_regression, k=10)\n",
    "    fit = bestfeatures.fit(X,y)\n",
    "    featureScores = pd.DataFrame({'Features':X.columns,'Importance_Score':fit.scores_}).reset_index().sort_values(by='Importance_Score',ascending=False)\n",
    "    selected_features = list(featureScores[featureScores['Importance_Score']>50]['Features'].values)\n",
    "    return selected_features"
   ]
  },
  {
   "cell_type": "code",
   "execution_count": 11,
   "id": "4e6d2f06",
   "metadata": {},
   "outputs": [
    {
     "name": "stdout",
     "output_type": "stream",
     "text": [
      "Pipe_3\n",
      "['CA', 'PS', 'SO', 'TM', 'pH', 'PCO2', 'HCO3', 'FE']\n",
      "Pipe_2\n",
      "['CA', 'PS', 'SO', 'TM', 'PCO2', 'pH', 'HCO3', 'FE']\n",
      "Pipe_1\n",
      "['CA', 'PS', 'SO', 'TM', 'pH', 'PCO2', 'HCO3', 'FE']\n"
     ]
    }
   ],
   "source": [
    "pipe_types = list(data['Pipe_type'].unique())\n",
    "for pipe in pipe_types:\n",
    "    print(pipe)\n",
    "    pipe_data = data[data['Pipe_type']==pipe]\n",
    "    pipe_data = pipe_data.drop(['BSW','CL'],axis=1)\n",
    "    selected_features = feature_importance(pipe_data)\n",
    "    print(selected_features)"
   ]
  },
  {
   "cell_type": "markdown",
   "id": "6014858d",
   "metadata": {},
   "source": [
    "### Prepare data for modelling"
   ]
  },
  {
   "cell_type": "code",
   "execution_count": 12,
   "id": "40717a2d",
   "metadata": {},
   "outputs": [],
   "source": [
    "# Function to evaluate the model\n",
    "def evaluate(model, test_features, test_labels):\n",
    "    predictions = model.predict(test_features)\n",
    "    errors = abs(predictions - test_labels)\n",
    "    mape = 100 * np.mean(errors / test_labels)\n",
    "    rmse = np.sqrt(mean_squared_error(model.predict(test_features),test_labels))\n",
    "    accuracy = 100 - mape\n",
    "    print('Model Performance')\n",
    "    print('Average Error: {:0.4f} degrees.'.format(np.mean(errors)))\n",
    "    print('Accuracy = {:0.4f}%.'.format(accuracy))   \n",
    "    print('RMSE = {:0.4f}'.format(rmse))\n",
    "    return accuracy,rmse"
   ]
  },
  {
   "cell_type": "code",
   "execution_count": 15,
   "id": "a475d402",
   "metadata": {},
   "outputs": [],
   "source": [
    "### Pipe 1"
   ]
  },
  {
   "cell_type": "code",
   "execution_count": 14,
   "id": "25eda123",
   "metadata": {},
   "outputs": [
    {
     "name": "stdout",
     "output_type": "stream",
     "text": [
      "Fitting 3 folds for each of 100 candidates, totalling 300 fits\n"
     ]
    },
    {
     "data": {
      "text/plain": [
       "RandomizedSearchCV(cv=3, estimator=RandomForestRegressor(), n_iter=100,\n",
       "                   n_jobs=-1,\n",
       "                   param_distributions={'bootstrap': [True, False],\n",
       "                                        'max_depth': [3, 6, 9, 12, 15, 18, 21,\n",
       "                                                      24, 27, 30, None],\n",
       "                                        'max_features': ['auto', 'sqrt'],\n",
       "                                        'min_samples_leaf': [1, 2, 4],\n",
       "                                        'min_samples_split': [2, 5, 10],\n",
       "                                        'n_estimators': [100, 144, 188, 233,\n",
       "                                                         277, 322, 366, 411,\n",
       "                                                         455, 500]},\n",
       "                   random_state=42, verbose=2)"
      ]
     },
     "execution_count": 14,
     "metadata": {},
     "output_type": "execute_result"
    }
   ],
   "source": [
    "##### RandomizedSearchCV #####\n",
    "model_data = data[data['Pipe_type']==\"Pipe_1\"]\n",
    "X = model_data[selected_features]\n",
    "y = model_data['Defect_Depth']\n",
    "X_train, X_test, y_train, y_test = train_test_split(X, y, \n",
    "                                                test_size = 0.2, random_state=42)\n",
    "rf = RandomForestRegressor()\n",
    "\n",
    "n_estimators = [int(x) for x in np.linspace(start = 100, stop = 500, num = 10)]   \n",
    "max_features = ['auto', 'sqrt']\n",
    "max_depth = [int(x) for x in np.linspace(3, 30, num = 10)]\n",
    "max_depth.append(None)\n",
    "min_samples_split = [2, 5, 10]\n",
    "min_samples_leaf = [1, 2, 4]\n",
    "bootstrap = [True, False]\n",
    "random_grid = {'n_estimators': n_estimators,\n",
    "               'max_features': max_features,\n",
    "               'max_depth': max_depth,\n",
    "               'min_samples_split': min_samples_split,\n",
    "               'min_samples_leaf': min_samples_leaf,\n",
    "               'bootstrap': bootstrap}\n",
    "\n",
    "RandomizedSearchCV_Model = RandomizedSearchCV(estimator = rf, param_distributions = random_grid, n_iter = 100, cv = 3, verbose=2, random_state=42, n_jobs = -1)\n",
    "RandomizedSearchCV_Model.fit(X_train, y_train)"
   ]
  },
  {
   "cell_type": "code",
   "execution_count": 18,
   "id": "63275d26",
   "metadata": {},
   "outputs": [
    {
     "name": "stdout",
     "output_type": "stream",
     "text": [
      "Model Performance\n",
      "Average Error: 0.0824 degrees.\n",
      "Accuracy = 74.5960%.\n",
      "RMSE = 0.1630\n"
     ]
    },
    {
     "data": {
      "text/plain": [
       "(74.59603049712189, 0.1629774701949919)"
      ]
     },
     "execution_count": 18,
     "metadata": {},
     "output_type": "execute_result"
    }
   ],
   "source": [
    "evaluate(RandomizedSearchCV_Model,X_train, y_train)"
   ]
  },
  {
   "cell_type": "code",
   "execution_count": 19,
   "id": "37af58a8",
   "metadata": {},
   "outputs": [
    {
     "name": "stdout",
     "output_type": "stream",
     "text": [
      "Model Performance\n",
      "Average Error: 0.0786 degrees.\n",
      "Accuracy = 74.2579%.\n",
      "RMSE = 0.1574\n"
     ]
    },
    {
     "data": {
      "text/plain": [
       "(74.2578647516367, 0.15740858108821296)"
      ]
     },
     "execution_count": 19,
     "metadata": {},
     "output_type": "execute_result"
    }
   ],
   "source": [
    "evaluate(RandomizedSearchCV_Model,X_test, y_test)"
   ]
  },
  {
   "cell_type": "code",
   "execution_count": 16,
   "id": "cc0b1d2b",
   "metadata": {},
   "outputs": [],
   "source": [
    "### Pipe 2"
   ]
  },
  {
   "cell_type": "code",
   "execution_count": 20,
   "id": "f51895e3",
   "metadata": {},
   "outputs": [
    {
     "name": "stdout",
     "output_type": "stream",
     "text": [
      "Fitting 3 folds for each of 100 candidates, totalling 300 fits\n"
     ]
    },
    {
     "data": {
      "text/plain": [
       "RandomizedSearchCV(cv=3, estimator=RandomForestRegressor(), n_iter=100,\n",
       "                   n_jobs=-1,\n",
       "                   param_distributions={'bootstrap': [True, False],\n",
       "                                        'max_depth': [3, 6, 9, 12, 15, 18, 21,\n",
       "                                                      24, 27, 30, None],\n",
       "                                        'max_features': ['auto', 'sqrt'],\n",
       "                                        'min_samples_leaf': [1, 2, 4],\n",
       "                                        'min_samples_split': [2, 5, 10],\n",
       "                                        'n_estimators': [100, 144, 188, 233,\n",
       "                                                         277, 322, 366, 411,\n",
       "                                                         455, 500]},\n",
       "                   random_state=42, verbose=2)"
      ]
     },
     "execution_count": 20,
     "metadata": {},
     "output_type": "execute_result"
    }
   ],
   "source": [
    "##### RandomizedSearchCV #####\n",
    "rf = RandomForestRegressor()\n",
    "n_estimators = [int(x) for x in np.linspace(start = 100, stop = 500, num = 10)]   \n",
    "max_features = ['auto', 'sqrt']\n",
    "max_depth = [int(x) for x in np.linspace(3, 30, num = 10)]\n",
    "max_depth.append(None)\n",
    "min_samples_split = [2, 5, 10]\n",
    "min_samples_leaf = [1, 2, 4]\n",
    "bootstrap = [True, False]\n",
    "random_grid = {'n_estimators': n_estimators,\n",
    "               'max_features': max_features,\n",
    "               'max_depth': max_depth,\n",
    "               'min_samples_split': min_samples_split,\n",
    "               'min_samples_leaf': min_samples_leaf,\n",
    "               'bootstrap': bootstrap}\n",
    "\n",
    "RandomizedSearchCV_Model2 = RandomizedSearchCV(estimator = rf, param_distributions = random_grid, n_iter = 100, cv = 3, verbose=2, random_state=42, n_jobs = -1)\n",
    "RandomizedSearchCV_Model2.fit(X_train, y_train)"
   ]
  },
  {
   "cell_type": "code",
   "execution_count": 21,
   "id": "a7769047",
   "metadata": {},
   "outputs": [
    {
     "name": "stdout",
     "output_type": "stream",
     "text": [
      "Model Performance\n",
      "Average Error: 0.0825 degrees.\n",
      "Accuracy = 74.5827%.\n",
      "RMSE = 0.1631\n"
     ]
    },
    {
     "data": {
      "text/plain": [
       "(74.58269846161903, 0.16309103326884605)"
      ]
     },
     "execution_count": 21,
     "metadata": {},
     "output_type": "execute_result"
    }
   ],
   "source": [
    "evaluate(RandomizedSearchCV_Model2,X_train, y_train)"
   ]
  },
  {
   "cell_type": "code",
   "execution_count": 22,
   "id": "d2090f52",
   "metadata": {},
   "outputs": [
    {
     "name": "stdout",
     "output_type": "stream",
     "text": [
      "Model Performance\n",
      "Average Error: 0.0786 degrees.\n",
      "Accuracy = 74.2594%.\n",
      "RMSE = 0.1573\n"
     ]
    },
    {
     "data": {
      "text/plain": [
       "(74.25935616690914, 0.1572776409535794)"
      ]
     },
     "execution_count": 22,
     "metadata": {},
     "output_type": "execute_result"
    }
   ],
   "source": [
    "evaluate(RandomizedSearchCV_Model2,X_test, y_test)"
   ]
  },
  {
   "cell_type": "code",
   "execution_count": null,
   "id": "1053917c",
   "metadata": {},
   "outputs": [],
   "source": [
    "### Pipe 3"
   ]
  },
  {
   "cell_type": "code",
   "execution_count": 23,
   "id": "c4be2e98",
   "metadata": {},
   "outputs": [
    {
     "name": "stdout",
     "output_type": "stream",
     "text": [
      "Fitting 3 folds for each of 100 candidates, totalling 300 fits\n"
     ]
    },
    {
     "data": {
      "text/plain": [
       "RandomizedSearchCV(cv=3, estimator=RandomForestRegressor(), n_iter=100,\n",
       "                   n_jobs=-1,\n",
       "                   param_distributions={'bootstrap': [True, False],\n",
       "                                        'max_depth': [3, 6, 9, 12, 15, 18, 21,\n",
       "                                                      24, 27, 30, None],\n",
       "                                        'max_features': ['auto', 'sqrt'],\n",
       "                                        'min_samples_leaf': [1, 2, 4],\n",
       "                                        'min_samples_split': [2, 5, 10],\n",
       "                                        'n_estimators': [100, 144, 188, 233,\n",
       "                                                         277, 322, 366, 411,\n",
       "                                                         455, 500]},\n",
       "                   random_state=42, verbose=2)"
      ]
     },
     "execution_count": 23,
     "metadata": {},
     "output_type": "execute_result"
    }
   ],
   "source": [
    "rf = RandomForestRegressor()\n",
    "n_estimators = [int(x) for x in np.linspace(start = 100, stop = 500, num = 10)]   \n",
    "max_features = ['auto', 'sqrt']\n",
    "max_depth = [int(x) for x in np.linspace(3, 30, num = 10)]\n",
    "max_depth.append(None)\n",
    "min_samples_split = [2, 5, 10]\n",
    "min_samples_leaf = [1, 2, 4]\n",
    "bootstrap = [True, False]\n",
    "random_grid = {'n_estimators': n_estimators,\n",
    "               'max_features': max_features,\n",
    "               'max_depth': max_depth,\n",
    "               'min_samples_split': min_samples_split,\n",
    "               'min_samples_leaf': min_samples_leaf,\n",
    "               'bootstrap': bootstrap}\n",
    "\n",
    "RandomizedSearchCV_Model3 = RandomizedSearchCV(estimator = rf, param_distributions = random_grid, n_iter = 100, cv = 3, verbose=2, random_state=42, n_jobs = -1)\n",
    "RandomizedSearchCV_Model3.fit(X_train, y_train)"
   ]
  },
  {
   "cell_type": "code",
   "execution_count": 24,
   "id": "7dce3292",
   "metadata": {},
   "outputs": [
    {
     "name": "stdout",
     "output_type": "stream",
     "text": [
      "Model Performance\n",
      "Average Error: 0.0827 degrees.\n",
      "Accuracy = 74.5275%.\n",
      "RMSE = 0.1634\n",
      "Model Performance\n",
      "Average Error: 0.0787 degrees.\n",
      "Accuracy = 74.2177%.\n",
      "RMSE = 0.1574\n"
     ]
    },
    {
     "data": {
      "text/plain": [
       "(74.21771005791865, 0.15736643359271182)"
      ]
     },
     "execution_count": 24,
     "metadata": {},
     "output_type": "execute_result"
    }
   ],
   "source": [
    "evaluate(RandomizedSearchCV_Model3,X_train, y_train)"
   ]
  },
  {
   "cell_type": "code",
   "execution_count": 25,
   "id": "10111bda",
   "metadata": {},
   "outputs": [],
   "source": [
    "import pickle\n",
    "filename = 'RandomizedCV_Model_Pipe_1_New.sav'\n",
    "pickle.dump(RandomizedSearchCV_Model, open(filename, 'wb'))"
   ]
  },
  {
   "cell_type": "code",
   "execution_count": 26,
   "id": "ff6fa90a",
   "metadata": {},
   "outputs": [],
   "source": [
    "filename = 'RandomizedCV_Model_Pipe_2_New.sav'\n",
    "pickle.dump(RandomizedSearchCV_Model2, open(filename, 'wb'))"
   ]
  },
  {
   "cell_type": "code",
   "execution_count": 27,
   "id": "4000ecd5",
   "metadata": {},
   "outputs": [],
   "source": [
    "filename = 'RandomizedCV_Model_Pipe_3_New.sav'\n",
    "pickle.dump(RandomizedSearchCV_Model3, open(filename, 'wb'))"
   ]
  },
  {
   "cell_type": "code",
   "execution_count": null,
   "id": "157f8fa9",
   "metadata": {},
   "outputs": [],
   "source": []
  },
  {
   "cell_type": "code",
   "execution_count": null,
   "id": "280ac1bf",
   "metadata": {},
   "outputs": [],
   "source": []
  },
  {
   "cell_type": "code",
   "execution_count": null,
   "id": "110f0650",
   "metadata": {},
   "outputs": [],
   "source": []
  },
  {
   "cell_type": "code",
   "execution_count": null,
   "id": "8284fdfb",
   "metadata": {},
   "outputs": [],
   "source": []
  },
  {
   "cell_type": "code",
   "execution_count": null,
   "id": "41f1005b",
   "metadata": {},
   "outputs": [],
   "source": []
  },
  {
   "cell_type": "code",
   "execution_count": null,
   "id": "2fc5ac6a",
   "metadata": {},
   "outputs": [],
   "source": []
  },
  {
   "cell_type": "code",
   "execution_count": null,
   "id": "a8243af8",
   "metadata": {},
   "outputs": [],
   "source": []
  },
  {
   "cell_type": "code",
   "execution_count": null,
   "id": "619e594f",
   "metadata": {},
   "outputs": [],
   "source": []
  },
  {
   "cell_type": "code",
   "execution_count": null,
   "id": "f3a6f2bc",
   "metadata": {},
   "outputs": [],
   "source": []
  },
  {
   "cell_type": "code",
   "execution_count": null,
   "id": "5ff5fc7a",
   "metadata": {},
   "outputs": [],
   "source": []
  },
  {
   "cell_type": "code",
   "execution_count": null,
   "id": "adf835ec",
   "metadata": {},
   "outputs": [],
   "source": []
  },
  {
   "cell_type": "code",
   "execution_count": null,
   "id": "f72ba617",
   "metadata": {},
   "outputs": [],
   "source": []
  },
  {
   "cell_type": "code",
   "execution_count": null,
   "id": "f430d178",
   "metadata": {},
   "outputs": [],
   "source": []
  },
  {
   "cell_type": "code",
   "execution_count": null,
   "id": "f73b0049",
   "metadata": {},
   "outputs": [],
   "source": []
  },
  {
   "cell_type": "code",
   "execution_count": null,
   "id": "c12f6570",
   "metadata": {},
   "outputs": [],
   "source": []
  },
  {
   "cell_type": "code",
   "execution_count": null,
   "id": "2d8bb9fb",
   "metadata": {},
   "outputs": [],
   "source": []
  },
  {
   "cell_type": "code",
   "execution_count": null,
   "id": "151e5b7c",
   "metadata": {},
   "outputs": [],
   "source": []
  },
  {
   "cell_type": "code",
   "execution_count": null,
   "id": "8697e3a9",
   "metadata": {},
   "outputs": [],
   "source": []
  },
  {
   "cell_type": "code",
   "execution_count": null,
   "id": "c2bd7c14",
   "metadata": {},
   "outputs": [],
   "source": []
  },
  {
   "cell_type": "code",
   "execution_count": null,
   "id": "95a4bbd7",
   "metadata": {},
   "outputs": [],
   "source": []
  },
  {
   "cell_type": "code",
   "execution_count": null,
   "id": "df9db6a7",
   "metadata": {},
   "outputs": [],
   "source": []
  },
  {
   "cell_type": "code",
   "execution_count": null,
   "id": "389fed0c",
   "metadata": {},
   "outputs": [],
   "source": []
  },
  {
   "cell_type": "code",
   "execution_count": null,
   "id": "1ba54e11",
   "metadata": {},
   "outputs": [],
   "source": []
  },
  {
   "cell_type": "code",
   "execution_count": null,
   "id": "93de9eaa",
   "metadata": {},
   "outputs": [],
   "source": []
  },
  {
   "cell_type": "code",
   "execution_count": null,
   "id": "075f7139",
   "metadata": {},
   "outputs": [],
   "source": []
  },
  {
   "cell_type": "code",
   "execution_count": null,
   "id": "bdca854e",
   "metadata": {},
   "outputs": [],
   "source": []
  },
  {
   "cell_type": "code",
   "execution_count": null,
   "id": "63985671",
   "metadata": {},
   "outputs": [],
   "source": []
  },
  {
   "cell_type": "code",
   "execution_count": null,
   "id": "ad466de1",
   "metadata": {},
   "outputs": [],
   "source": []
  },
  {
   "cell_type": "code",
   "execution_count": null,
   "id": "f4566b6a",
   "metadata": {},
   "outputs": [],
   "source": []
  },
  {
   "cell_type": "code",
   "execution_count": null,
   "id": "955e736c",
   "metadata": {},
   "outputs": [],
   "source": [
    "#### Pipe 1\n",
    "model_data = data[data['Pipe_type']==\"Pipe_1\"]\n",
    "X = model_data[selected_features]\n",
    "y = model_data['Defect_Depth']\n",
    "X_train, X_test, y_train, y_test = train_test_split(X, y, \n",
    "                                                test_size = 0.2, random_state=42)\n",
    "##### Base Model #####\n",
    "Base_model = RandomForestRegressor(n_estimators = 10, random_state = 42)\n",
    "Base_model.fit(X_train, y_train)\n",
    "\n",
    "##### RandomizedSearchCV #####\n",
    "rf = RandomForestRegressor()\n",
    "n_estimators = [int(x) for x in np.linspace(start = 100, stop = 500, num = 10)]   \n",
    "max_features = ['auto', 'sqrt']\n",
    "max_depth = [int(x) for x in np.linspace(3, 30, num = 10)]\n",
    "max_depth.append(None)\n",
    "min_samples_split = [2, 5, 10]\n",
    "min_samples_leaf = [1, 2, 4]\n",
    "bootstrap = [True, False]\n",
    "random_grid = {'n_estimators': n_estimators,\n",
    "               'max_features': max_features,\n",
    "               'max_depth': max_depth,\n",
    "               'min_samples_split': min_samples_split,\n",
    "               'min_samples_leaf': min_samples_leaf,\n",
    "               'bootstrap': bootstrap}\n",
    "\n",
    "RandomizedSearchCV_Model = RandomizedSearchCV(estimator = rf, param_distributions = random_grid, n_iter = 100, cv = 3, verbose=2, random_state=42, n_jobs = -1)\n",
    "RandomizedSearchCV_Model.fit(X_train, y_train)\n",
    "\n",
    "#### GridSearchCV#####\n",
    "param_grid = {\n",
    "'bootstrap': [True],\n",
    "'max_depth': [80, 90, 100, 110],\n",
    "'max_features': [2,3,5,6,7],\n",
    "'min_samples_leaf': [3, 4, 5],\n",
    "'min_samples_split': [8, 10, 12],\n",
    "'n_estimators': [100, 200, 300]\n",
    "}\n",
    "\n",
    "rf = RandomForestRegressor()\n",
    "Grid_search_Model = GridSearchCV(estimator = rf, param_grid = param_grid, \n",
    "                          cv = 3, n_jobs = -1, verbose = 2)\n",
    "Grid_search_Model.fit(X_train, y_train)\n",
    "Best_grid_Model = Grid_search_Model.best_estimator_\n",
    "\n",
    "\n",
    "#### Linear Regression Model ####\n",
    "\n",
    "Linear_model = sm.OLS(y_train, X_train).fit()"
   ]
  },
  {
   "cell_type": "code",
   "execution_count": 63,
   "id": "53095ce3",
   "metadata": {},
   "outputs": [
    {
     "name": "stdout",
     "output_type": "stream",
     "text": [
      "Model Performance\n",
      "Average Error: 0.0334 degrees.\n",
      "Accuracy = 89.5302%.\n",
      "RMSE = 0.0731\n",
      "Model Performance\n",
      "Average Error: 0.0852 degrees.\n",
      "Accuracy = 72.8606%.\n",
      "RMSE = 0.1754\n",
      "Model Performance\n",
      "Average Error: 0.0822 degrees.\n",
      "Accuracy = 74.6094%.\n",
      "RMSE = 0.1625\n",
      "Model Performance\n",
      "Average Error: 0.0788 degrees.\n",
      "Accuracy = 74.2371%.\n",
      "RMSE = 0.1575\n",
      "Model Performance\n",
      "Average Error: 0.0624 degrees.\n",
      "Accuracy = 81.0431%.\n",
      "RMSE = 0.1262\n",
      "Model Performance\n",
      "Average Error: 0.0802 degrees.\n",
      "Accuracy = 74.1476%.\n",
      "RMSE = 0.1608\n",
      "Model Performance\n",
      "Average Error: 0.1160 degrees.\n",
      "Accuracy = 53.4063%.\n",
      "RMSE = 0.1857\n",
      "Model Performance\n",
      "Average Error: 0.1118 degrees.\n",
      "Accuracy = 52.3579%.\n",
      "RMSE = 0.1721\n"
     ]
    },
    {
     "data": {
      "text/html": [
       "<div>\n",
       "<style scoped>\n",
       "    .dataframe tbody tr th:only-of-type {\n",
       "        vertical-align: middle;\n",
       "    }\n",
       "\n",
       "    .dataframe tbody tr th {\n",
       "        vertical-align: top;\n",
       "    }\n",
       "\n",
       "    .dataframe thead th {\n",
       "        text-align: right;\n",
       "    }\n",
       "</style>\n",
       "<table border=\"1\" class=\"dataframe\">\n",
       "  <thead>\n",
       "    <tr style=\"text-align: right;\">\n",
       "      <th></th>\n",
       "      <th>Accuracy_Train</th>\n",
       "      <th>Accuracy_Test</th>\n",
       "      <th>RMSE_Train</th>\n",
       "      <th>RMSE_Test</th>\n",
       "    </tr>\n",
       "  </thead>\n",
       "  <tbody>\n",
       "    <tr>\n",
       "      <th>Base_Model</th>\n",
       "      <td>89.530218</td>\n",
       "      <td>72.860552</td>\n",
       "      <td>0.073094</td>\n",
       "      <td>0.175378</td>\n",
       "    </tr>\n",
       "    <tr>\n",
       "      <th>RandomizedSearchCV_Model</th>\n",
       "      <td>74.609358</td>\n",
       "      <td>74.237121</td>\n",
       "      <td>0.162514</td>\n",
       "      <td>0.157519</td>\n",
       "    </tr>\n",
       "    <tr>\n",
       "      <th>GridSearchCV_Model</th>\n",
       "      <td>81.043087</td>\n",
       "      <td>74.147619</td>\n",
       "      <td>0.126207</td>\n",
       "      <td>0.160843</td>\n",
       "    </tr>\n",
       "    <tr>\n",
       "      <th>Linear_Model</th>\n",
       "      <td>53.406329</td>\n",
       "      <td>52.357923</td>\n",
       "      <td>0.185731</td>\n",
       "      <td>0.172069</td>\n",
       "    </tr>\n",
       "  </tbody>\n",
       "</table>\n",
       "</div>"
      ],
      "text/plain": [
       "                          Accuracy_Train  Accuracy_Test  RMSE_Train  RMSE_Test\n",
       "Base_Model                     89.530218      72.860552    0.073094   0.175378\n",
       "RandomizedSearchCV_Model       74.609358      74.237121    0.162514   0.157519\n",
       "GridSearchCV_Model             81.043087      74.147619    0.126207   0.160843\n",
       "Linear_Model                   53.406329      52.357923    0.185731   0.172069"
      ]
     },
     "execution_count": 63,
     "metadata": {},
     "output_type": "execute_result"
    }
   ],
   "source": [
    "models_trained = [Base_model,RandomizedSearchCV_Model,Grid_search_Model,Linear_model]\n",
    "Model_name = ['Base_Model','RandomizedSearchCV_Model','GridSearchCV_Model','Linear_Model']\n",
    "\n",
    "Accuracy_Train = []\n",
    "RMSE_Train = []\n",
    "\n",
    "Accuracy_Test = []\n",
    "RMSE_Test = []\n",
    "Pipe_1_Model_Performance = pd.DataFrame()\n",
    "for models in models_trained:\n",
    "    Accuracy_Train,RMSE_Train = evaluate(models,X_train, y_train)\n",
    "    Accuracy_Test,RMSE_Test = evaluate(models,X_test, y_test)\n",
    "    temp = pd.DataFrame({'Accuracy_Train':Accuracy_Train,'Accuracy_Test':Accuracy_Test,'RMSE_Train':RMSE_Train,'RMSE_Test':RMSE_Test},index=[0])\n",
    "    Pipe_1_Model_Performance = Pipe_1_Model_Performance.append(temp)\n",
    "\n",
    "Pipe_1_Model_Performance.index = list(Model_name)\n",
    "Pipe_1_Model_Performance"
   ]
  },
  {
   "cell_type": "code",
   "execution_count": 78,
   "id": "a791e8a5",
   "metadata": {},
   "outputs": [],
   "source": [
    "import pickle\n",
    "filename = 'RandomizedCV_Model_Pipe_1.sav'\n",
    "pickle.dump(RandomizedSearchCV_Model, open(filename, 'wb'))"
   ]
  },
  {
   "cell_type": "code",
   "execution_count": 72,
   "id": "8f29c981",
   "metadata": {},
   "outputs": [
    {
     "name": "stdout",
     "output_type": "stream",
     "text": [
      "Fitting 3 folds for each of 100 candidates, totalling 300 fits\n",
      "Fitting 3 folds for each of 540 candidates, totalling 1620 fits\n"
     ]
    }
   ],
   "source": [
    "#### Pipe 2\n",
    "model_data = data[data['Pipe_type']==\"Pipe_2\"]\n",
    "X = model_data[selected_features]\n",
    "y = model_data['Defect_Depth']\n",
    "X_train, X_test, y_train, y_test = train_test_split(X, y, \n",
    "                                                test_size = 0.2, random_state=42)\n",
    "##### Base Model #####\n",
    "Base_model2 = RandomForestRegressor(n_estimators = 10, random_state = 42)\n",
    "Base_model2.fit(X_train, y_train)\n",
    "\n",
    "##### RandomizedSearchCV #####\n",
    "rf = RandomForestRegressor()\n",
    "n_estimators = [int(x) for x in np.linspace(start = 100, stop = 500, num = 10)]   \n",
    "max_features = ['auto', 'sqrt']\n",
    "max_depth = [int(x) for x in np.linspace(3, 30, num = 10)]\n",
    "max_depth.append(None)\n",
    "min_samples_split = [2, 5, 10]\n",
    "min_samples_leaf = [1, 2, 4]\n",
    "bootstrap = [True, False]\n",
    "random_grid = {'n_estimators': n_estimators,\n",
    "               'max_features': max_features,\n",
    "               'max_depth': max_depth,\n",
    "               'min_samples_split': min_samples_split,\n",
    "               'min_samples_leaf': min_samples_leaf,\n",
    "               'bootstrap': bootstrap}\n",
    "\n",
    "RandomizedSearchCV_Model2 = RandomizedSearchCV(estimator = rf, param_distributions = random_grid, n_iter = 100, cv = 3, verbose=2, random_state=42, n_jobs = -1)\n",
    "RandomizedSearchCV_Model2.fit(X_train, y_train)\n",
    "\n",
    "#### GridSearchCV#####\n",
    "param_grid = {\n",
    "'bootstrap': [True],\n",
    "'max_depth': [80, 90, 100, 110],\n",
    "'max_features': [2,3,5,6,7],\n",
    "'min_samples_leaf': [3, 4, 5],\n",
    "'min_samples_split': [8, 10, 12],\n",
    "'n_estimators': [100, 200, 300]\n",
    "}\n",
    "\n",
    "rf = RandomForestRegressor()\n",
    "Grid_search_Model2 = GridSearchCV(estimator = rf, param_grid = param_grid, \n",
    "                          cv = 3, n_jobs = -1, verbose = 2)\n",
    "Grid_search_Model2.fit(X_train, y_train)\n",
    "Best_grid_Model2 = Grid_search_Model2.best_estimator_\n",
    "\n",
    "\n",
    "#### Linear Regression Model ####\n",
    "\n",
    "Linear_model2 = sm.OLS(y_train, X_train).fit()\n"
   ]
  },
  {
   "cell_type": "code",
   "execution_count": 66,
   "id": "3c54b31a",
   "metadata": {},
   "outputs": [
    {
     "name": "stdout",
     "output_type": "stream",
     "text": [
      "Model Performance\n",
      "Average Error: 0.0340 degrees.\n",
      "Accuracy = 89.7262%.\n",
      "RMSE = 0.0718\n",
      "Model Performance\n",
      "Average Error: 0.0796 degrees.\n",
      "Accuracy = 73.9809%.\n",
      "RMSE = 0.1715\n",
      "Model Performance\n",
      "Average Error: 0.0817 degrees.\n",
      "Accuracy = 74.9862%.\n",
      "RMSE = 0.1595\n",
      "Model Performance\n",
      "Average Error: 0.0726 degrees.\n",
      "Accuracy = 74.5119%.\n",
      "RMSE = 0.1512\n",
      "Model Performance\n",
      "Average Error: 0.0531 degrees.\n",
      "Accuracy = 84.0994%.\n",
      "RMSE = 0.1060\n",
      "Model Performance\n",
      "Average Error: 0.0734 degrees.\n",
      "Accuracy = 74.4389%.\n",
      "RMSE = 0.1539\n",
      "Model Performance\n",
      "Average Error: 0.1174 degrees.\n",
      "Accuracy = 51.7872%.\n",
      "RMSE = 0.1837\n",
      "Model Performance\n",
      "Average Error: 0.1067 degrees.\n",
      "Accuracy = 50.9289%.\n",
      "RMSE = 0.1710\n"
     ]
    },
    {
     "data": {
      "text/html": [
       "<div>\n",
       "<style scoped>\n",
       "    .dataframe tbody tr th:only-of-type {\n",
       "        vertical-align: middle;\n",
       "    }\n",
       "\n",
       "    .dataframe tbody tr th {\n",
       "        vertical-align: top;\n",
       "    }\n",
       "\n",
       "    .dataframe thead th {\n",
       "        text-align: right;\n",
       "    }\n",
       "</style>\n",
       "<table border=\"1\" class=\"dataframe\">\n",
       "  <thead>\n",
       "    <tr style=\"text-align: right;\">\n",
       "      <th></th>\n",
       "      <th>Accuracy_Train</th>\n",
       "      <th>Accuracy_Test</th>\n",
       "      <th>RMSE_Train</th>\n",
       "      <th>RMSE_Test</th>\n",
       "    </tr>\n",
       "  </thead>\n",
       "  <tbody>\n",
       "    <tr>\n",
       "      <th>Base_Model</th>\n",
       "      <td>89.726247</td>\n",
       "      <td>73.980932</td>\n",
       "      <td>0.071755</td>\n",
       "      <td>0.171474</td>\n",
       "    </tr>\n",
       "    <tr>\n",
       "      <th>RandomizedSearchCV_Model</th>\n",
       "      <td>74.986234</td>\n",
       "      <td>74.511862</td>\n",
       "      <td>0.159467</td>\n",
       "      <td>0.151248</td>\n",
       "    </tr>\n",
       "    <tr>\n",
       "      <th>GridSearchCV_Model</th>\n",
       "      <td>84.099435</td>\n",
       "      <td>74.438938</td>\n",
       "      <td>0.106020</td>\n",
       "      <td>0.153888</td>\n",
       "    </tr>\n",
       "    <tr>\n",
       "      <th>Linear_Model</th>\n",
       "      <td>51.787223</td>\n",
       "      <td>50.928916</td>\n",
       "      <td>0.183661</td>\n",
       "      <td>0.171043</td>\n",
       "    </tr>\n",
       "  </tbody>\n",
       "</table>\n",
       "</div>"
      ],
      "text/plain": [
       "                          Accuracy_Train  Accuracy_Test  RMSE_Train  RMSE_Test\n",
       "Base_Model                     89.726247      73.980932    0.071755   0.171474\n",
       "RandomizedSearchCV_Model       74.986234      74.511862    0.159467   0.151248\n",
       "GridSearchCV_Model             84.099435      74.438938    0.106020   0.153888\n",
       "Linear_Model                   51.787223      50.928916    0.183661   0.171043"
      ]
     },
     "execution_count": 66,
     "metadata": {},
     "output_type": "execute_result"
    }
   ],
   "source": [
    "########################################################################################\n",
    "models_trained = [Base_model2,RandomizedSearchCV_Model2,Grid_search_Model2,Linear_model2]\n",
    "Model_name = ['Base_Model','RandomizedSearchCV_Model','GridSearchCV_Model','Linear_Model']\n",
    "\n",
    "Accuracy_Train = []\n",
    "RMSE_Train = []\n",
    "\n",
    "Accuracy_Test = []\n",
    "RMSE_Test = []\n",
    "Pipe_2_Model_Performance = pd.DataFrame()\n",
    "for models in models_trained:\n",
    "    Accuracy_Train,RMSE_Train = evaluate(models,X_train, y_train)\n",
    "    Accuracy_Test,RMSE_Test = evaluate(models,X_test, y_test)\n",
    "    temp = pd.DataFrame({'Accuracy_Train':Accuracy_Train,'Accuracy_Test':Accuracy_Test,'RMSE_Train':RMSE_Train,'RMSE_Test':RMSE_Test},index=[0])\n",
    "    Pipe_2_Model_Performance = Pipe_2_Model_Performance.append(temp)\n",
    "\n",
    "Pipe_2_Model_Performance.index = list(Model_name)\n",
    "Pipe_2_Model_Performance"
   ]
  },
  {
   "cell_type": "code",
   "execution_count": 76,
   "id": "f47293b8",
   "metadata": {},
   "outputs": [],
   "source": [
    "filename = 'RandomizedCV_Model_Pipe_2.sav'\n",
    "pickle.dump(RandomizedSearchCV_Model2, open(filename, 'wb'))"
   ]
  },
  {
   "cell_type": "code",
   "execution_count": 74,
   "id": "ce0f5760",
   "metadata": {},
   "outputs": [
    {
     "name": "stdout",
     "output_type": "stream",
     "text": [
      "Fitting 3 folds for each of 100 candidates, totalling 300 fits\n",
      "Fitting 3 folds for each of 540 candidates, totalling 1620 fits\n"
     ]
    }
   ],
   "source": [
    "#### Pipe 3\n",
    "model_data = data[data['Pipe_type']==\"Pipe_3\"]\n",
    "X = model_data[selected_features]\n",
    "y = model_data['Defect_Depth']\n",
    "X_train, X_test, y_train, y_test = train_test_split(X, y, \n",
    "                                                test_size = 0.2, random_state=42)\n",
    "##### Base Model #####\n",
    "Base_model3 = RandomForestRegressor(n_estimators = 10, random_state = 42)\n",
    "Base_model3.fit(X_train, y_train)\n",
    "\n",
    "##### RandomizedSearchCV #####\n",
    "rf = RandomForestRegressor()\n",
    "n_estimators = [int(x) for x in np.linspace(start = 100, stop = 500, num = 10)]   \n",
    "max_features = ['auto', 'sqrt']\n",
    "max_depth = [int(x) for x in np.linspace(3, 30, num = 10)]\n",
    "max_depth.append(None)\n",
    "min_samples_split = [2, 5, 10]\n",
    "min_samples_leaf = [1, 2, 4]\n",
    "bootstrap = [True, False]\n",
    "random_grid = {'n_estimators': n_estimators,\n",
    "               'max_features': max_features,\n",
    "               'max_depth': max_depth,\n",
    "               'min_samples_split': min_samples_split,\n",
    "               'min_samples_leaf': min_samples_leaf,\n",
    "               'bootstrap': bootstrap}\n",
    "\n",
    "RandomizedSearchCV_Model3 = RandomizedSearchCV(estimator = rf, param_distributions = random_grid, n_iter = 100, cv = 3, verbose=2, random_state=42, n_jobs = -1)\n",
    "RandomizedSearchCV_Model3.fit(X_train, y_train)\n",
    "\n",
    "#### GridSearchCV#####\n",
    "param_grid = {\n",
    "'bootstrap': [True],\n",
    "'max_depth': [80, 90, 100, 110],\n",
    "'max_features': [2,3,5,6,7],\n",
    "'min_samples_leaf': [3, 4, 5],\n",
    "'min_samples_split': [8, 10, 12],\n",
    "'n_estimators': [100, 200, 300]\n",
    "}\n",
    "\n",
    "rf = RandomForestRegressor()\n",
    "Grid_search_Model3 = GridSearchCV(estimator = rf, param_grid = param_grid, \n",
    "                          cv = 3, n_jobs = -1, verbose = 2)\n",
    "Grid_search_Model3.fit(X_train, y_train)\n",
    "Best_grid_Model3 = Grid_search_Model2.best_estimator_\n",
    "\n",
    "\n",
    "#### Linear Regression Model ####\n",
    "\n",
    "Linear_model3 = sm.OLS(y_train, X_train).fit()\n",
    "\n"
   ]
  },
  {
   "cell_type": "code",
   "execution_count": 69,
   "id": "50097f04",
   "metadata": {},
   "outputs": [
    {
     "name": "stdout",
     "output_type": "stream",
     "text": [
      "Model Performance\n",
      "Average Error: 0.0334 degrees.\n",
      "Accuracy = 89.8333%.\n",
      "RMSE = 0.0752\n",
      "Model Performance\n",
      "Average Error: 0.0943 degrees.\n",
      "Accuracy = 72.4599%.\n",
      "RMSE = 0.1850\n",
      "Model Performance\n",
      "Average Error: 0.0790 degrees.\n",
      "Accuracy = 75.2903%.\n",
      "RMSE = 0.1556\n",
      "Model Performance\n",
      "Average Error: 0.0868 degrees.\n",
      "Accuracy = 74.4943%.\n",
      "RMSE = 0.1703\n",
      "Model Performance\n",
      "Average Error: 0.0544 degrees.\n",
      "Accuracy = 83.4029%.\n",
      "RMSE = 0.1099\n",
      "Model Performance\n",
      "Average Error: 0.0884 degrees.\n",
      "Accuracy = 74.1046%.\n",
      "RMSE = 0.1737\n",
      "Model Performance\n",
      "Average Error: 0.1129 degrees.\n",
      "Accuracy = 53.6066%.\n",
      "RMSE = 0.1784\n",
      "Model Performance\n",
      "Average Error: 0.1130 degrees.\n",
      "Accuracy = 55.2264%.\n",
      "RMSE = 0.1841\n"
     ]
    },
    {
     "data": {
      "text/html": [
       "<div>\n",
       "<style scoped>\n",
       "    .dataframe tbody tr th:only-of-type {\n",
       "        vertical-align: middle;\n",
       "    }\n",
       "\n",
       "    .dataframe tbody tr th {\n",
       "        vertical-align: top;\n",
       "    }\n",
       "\n",
       "    .dataframe thead th {\n",
       "        text-align: right;\n",
       "    }\n",
       "</style>\n",
       "<table border=\"1\" class=\"dataframe\">\n",
       "  <thead>\n",
       "    <tr style=\"text-align: right;\">\n",
       "      <th></th>\n",
       "      <th>Accuracy_Train</th>\n",
       "      <th>Accuracy_Test</th>\n",
       "      <th>RMSE_Train</th>\n",
       "      <th>RMSE_Test</th>\n",
       "    </tr>\n",
       "  </thead>\n",
       "  <tbody>\n",
       "    <tr>\n",
       "      <th>Base_Model</th>\n",
       "      <td>89.833297</td>\n",
       "      <td>72.459869</td>\n",
       "      <td>0.075194</td>\n",
       "      <td>0.184961</td>\n",
       "    </tr>\n",
       "    <tr>\n",
       "      <th>RandomizedSearchCV_Model</th>\n",
       "      <td>75.290276</td>\n",
       "      <td>74.494294</td>\n",
       "      <td>0.155647</td>\n",
       "      <td>0.170328</td>\n",
       "    </tr>\n",
       "    <tr>\n",
       "      <th>GridSearchCV_Model</th>\n",
       "      <td>83.402911</td>\n",
       "      <td>74.104617</td>\n",
       "      <td>0.109885</td>\n",
       "      <td>0.173736</td>\n",
       "    </tr>\n",
       "    <tr>\n",
       "      <th>Linear_Model</th>\n",
       "      <td>53.606567</td>\n",
       "      <td>55.226352</td>\n",
       "      <td>0.178352</td>\n",
       "      <td>0.184106</td>\n",
       "    </tr>\n",
       "  </tbody>\n",
       "</table>\n",
       "</div>"
      ],
      "text/plain": [
       "                          Accuracy_Train  Accuracy_Test  RMSE_Train  RMSE_Test\n",
       "Base_Model                     89.833297      72.459869    0.075194   0.184961\n",
       "RandomizedSearchCV_Model       75.290276      74.494294    0.155647   0.170328\n",
       "GridSearchCV_Model             83.402911      74.104617    0.109885   0.173736\n",
       "Linear_Model                   53.606567      55.226352    0.178352   0.184106"
      ]
     },
     "execution_count": 69,
     "metadata": {},
     "output_type": "execute_result"
    }
   ],
   "source": [
    "########################################################################################\n",
    "\n",
    "\n",
    "models_trained = [Base_model3,RandomizedSearchCV_Model3,Grid_search_Model3,Linear_model3]\n",
    "Model_name = ['Base_Model','RandomizedSearchCV_Model','GridSearchCV_Model','Linear_Model']\n",
    "\n",
    "Accuracy_Train = []\n",
    "RMSE_Train = []\n",
    "\n",
    "Accuracy_Test = []\n",
    "RMSE_Test = []\n",
    "Pipe_3_Model_Performance = pd.DataFrame()\n",
    "for models in models_trained:\n",
    "    Accuracy_Train,RMSE_Train = evaluate(models,X_train, y_train)\n",
    "    Accuracy_Test,RMSE_Test = evaluate(models,X_test, y_test)\n",
    "    temp = pd.DataFrame({'Accuracy_Train':Accuracy_Train,'Accuracy_Test':Accuracy_Test,'RMSE_Train':RMSE_Train,'RMSE_Test':RMSE_Test},index=[0])\n",
    "    Pipe_3_Model_Performance = Pipe_3_Model_Performance.append(temp)\n",
    "\n",
    "Pipe_3_Model_Performance.index = list(Model_name)\n",
    "Pipe_3_Model_Performance"
   ]
  },
  {
   "cell_type": "code",
   "execution_count": 77,
   "id": "73a58a73",
   "metadata": {},
   "outputs": [],
   "source": [
    "filename = 'RandomizedCV_Model_Pipe_3.sav'\n",
    "pickle.dump(RandomizedSearchCV_Model3, open(filename, 'wb'))"
   ]
  },
  {
   "cell_type": "code",
   "execution_count": 1,
   "id": "7931947a",
   "metadata": {},
   "outputs": [
    {
     "ename": "NameError",
     "evalue": "name 'data' is not defined",
     "output_type": "error",
     "traceback": [
      "\u001b[1;31m---------------------------------------------------------------------------\u001b[0m",
      "\u001b[1;31mNameError\u001b[0m                                 Traceback (most recent call last)",
      "Input \u001b[1;32mIn [1]\u001b[0m, in \u001b[0;36m<cell line: 1>\u001b[1;34m()\u001b[0m\n\u001b[1;32m----> 1\u001b[0m \u001b[43mdata\u001b[49m\n",
      "\u001b[1;31mNameError\u001b[0m: name 'data' is not defined"
     ]
    }
   ],
   "source": [
    "data"
   ]
  },
  {
   "cell_type": "code",
   "execution_count": null,
   "id": "098bb8a5",
   "metadata": {},
   "outputs": [],
   "source": []
  }
 ],
 "metadata": {
  "kernelspec": {
   "display_name": "Python 3 (ipykernel)",
   "language": "python",
   "name": "python3"
  },
  "language_info": {
   "codemirror_mode": {
    "name": "ipython",
    "version": 3
   },
   "file_extension": ".py",
   "mimetype": "text/x-python",
   "name": "python",
   "nbconvert_exporter": "python",
   "pygments_lexer": "ipython3",
   "version": "3.9.12"
  }
 },
 "nbformat": 4,
 "nbformat_minor": 5
}
